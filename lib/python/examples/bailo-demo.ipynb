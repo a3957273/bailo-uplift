{
 "cells": [
  {
   "cell_type": "code",
   "execution_count": null,
   "metadata": {},
   "outputs": [],
   "source": [
    "from tests.mocks.mock_api import MockAPI\n",
    "from tests.mocks.mock_auth import MockAuthentication\n",
    "\n",
    "from bailoclient.client import Client\n",
    "from bailoclient.config import BailoConfig, APIConfig"
   ]
  },
  {
   "cell_type": "code",
   "execution_count": null,
   "metadata": {},
   "outputs": [],
   "source": [
    "### Build our various mocked components\n",
    "config = BailoConfig(\n",
    "    api=APIConfig(url=\"https://example.com\", ca_verify=True),\n",
    ")\n",
    "auth = MockAuthentication()\n",
    "api = MockAPI(config, auth, \"../tests/resources/responses/responses.json\")\n",
    "client = Client(config, authenticator=auth, api=api)"
   ]
  },
  {
   "cell_type": "code",
   "execution_count": null,
   "metadata": {},
   "outputs": [],
   "source": [
    "### Show we get a null response when trying to connect without auth\n",
    "auth.set_can_authenticate(False)\n",
    "print(\"Unauthenticated response: \", client.get_upload_schemas())\n",
    "\n",
    "### Unnecessary connect as the 'MockAuthentication' currently has no connection requirements\n",
    "auth.set_can_authenticate(True)\n",
    "client.connect()\n",
    "print(\"Authenticated response: \", client.get_deployment_schemas())"
   ]
  },
  {
   "cell_type": "code",
   "execution_count": null,
   "metadata": {},
   "outputs": [],
   "source": [
    "client.get_me()"
   ]
  },
  {
   "cell_type": "code",
   "execution_count": null,
   "metadata": {},
   "outputs": [],
   "source": [
    "client.get_users()"
   ]
  },
  {
   "cell_type": "code",
   "execution_count": null,
   "metadata": {},
   "outputs": [],
   "source": []
  }
 ],
 "metadata": {
  "language_info": {
   "codemirror_mode": {
    "name": "ipython",
    "version": 3
   },
   "file_extension": ".py",
   "mimetype": "text/x-python",
   "name": "python",
   "nbconvert_exporter": "python",
   "pygments_lexer": "ipython3",
   "version": "3.8.9"
  },
  "vscode": {
   "interpreter": {
    "hash": "31f2aee4e71d21fbe5cf8b01ff0e069b9275f58929596ceb00d14d90e3e16cd6"
   }
  }
 },
 "nbformat": 4,
 "nbformat_minor": 2
}
